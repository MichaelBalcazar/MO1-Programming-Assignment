{
 "cells": [
  {
   "cell_type": "markdown",
   "id": "329c136c-3c7f-481c-b170-8e4d662a8e38",
   "metadata": {},
   "source": [
    "3.1 How many seconds are in an hour? 3.2 Save this in a variable"
   ]
  },
  {
   "cell_type": "code",
   "execution_count": 2,
   "id": "8b34afff-5abe-43b0-989f-b6cd4d8ca5b5",
   "metadata": {},
   "outputs": [
    {
     "name": "stdout",
     "output_type": "stream",
     "text": [
      "3600\n"
     ]
    }
   ],
   "source": [
    "# Using the interactive interpreter as a calculator\n",
    "seconds_per_hour = 60 * 60\n",
    "seconds_per_hour\n",
    "print(seconds_per_hour)"
   ]
  },
  {
   "cell_type": "markdown",
   "id": "933c09cd-37da-42b4-9855-97c9c508ef81",
   "metadata": {},
   "source": [
    "3.3 How many seconds are in a day? Use your seconds_per_hour variable. 3.4 Calculate seconds per day again, but this time save the result in a variable called seconds_per_day."
   ]
  },
  {
   "cell_type": "code",
   "execution_count": 10,
   "id": "3b7d0d91-c03b-4d87-b086-5b2fb2fa4846",
   "metadata": {},
   "outputs": [
    {
     "name": "stdout",
     "output_type": "stream",
     "text": [
      "3600\n",
      "86400\n"
     ]
    }
   ],
   "source": [
    "seconds_per_hour = 60 * 60\n",
    "seconds_per_hour\n",
    "print(seconds_per_hour)\n",
    "seconds_per_day = seconds_per_hour * 24\n",
    "seconds_per_day\n",
    "print(seconds_per_day)"
   ]
  },
  {
   "cell_type": "markdown",
   "id": "c59520ee-08f1-4792-86a8-f73a50bc6766",
   "metadata": {},
   "source": [
    "3.5 Divide seconds_per_day by seconds_per_hour. Use floating-point (/) division."
   ]
  },
  {
   "cell_type": "code",
   "execution_count": 12,
   "id": "fa98b081-63a9-4f79-8af9-25deb97bdd2e",
   "metadata": {},
   "outputs": [
    {
     "name": "stdout",
     "output_type": "stream",
     "text": [
      "3600\n",
      "86400\n"
     ]
    },
    {
     "data": {
      "text/plain": [
       "24.0"
      ]
     },
     "execution_count": 12,
     "metadata": {},
     "output_type": "execute_result"
    }
   ],
   "source": [
    "seconds_per_hour = 60 * 60\n",
    "seconds_per_hour\n",
    "print(seconds_per_hour)\n",
    "seconds_per_day = seconds_per_hour * 24\n",
    "seconds_per_day\n",
    "print(seconds_per_day)\n",
    "floating_point_division = seconds_per_day / seconds_per_hour\n",
    "floating_point_division\n"
   ]
  },
  {
   "cell_type": "markdown",
   "id": "a20bd451-1ab5-431b-9840-b50e0a08d2c1",
   "metadata": {},
   "source": [
    "3.6 Divide seconds_per_day by seconds_per_hour, using integer (//) division. Did this number agree with the floating-point value from the previous question, aside from the final .0?"
   ]
  }
 ],
 "metadata": {
  "kernelspec": {
   "display_name": "Python 3 (ipykernel)",
   "language": "python",
   "name": "python3"
  },
  "language_info": {
   "codemirror_mode": {
    "name": "ipython",
    "version": 3
   },
   "file_extension": ".py",
   "mimetype": "text/x-python",
   "name": "python",
   "nbconvert_exporter": "python",
   "pygments_lexer": "ipython3",
   "version": "3.11.7"
  }
 },
 "nbformat": 4,
 "nbformat_minor": 5
}
